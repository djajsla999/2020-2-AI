{
  "nbformat": 4,
  "nbformat_minor": 0,
  "metadata": {
    "colab": {
      "name": "10W-2-wine-classcification.ipynb",
      "provenance": [],
      "authorship_tag": "ABX9TyNHCWyc8jnSWrHCpvhc5owS",
      "include_colab_link": true
    },
    "kernelspec": {
      "name": "python3",
      "display_name": "Python 3"
    }
  },
  "cells": [
    {
      "cell_type": "markdown",
      "metadata": {
        "id": "view-in-github",
        "colab_type": "text"
      },
      "source": [
        "<a href=\"https://colab.research.google.com/github/djajsla999/2020-2-AI/blob/master/10W_2_wine_classcification.ipynb\" target=\"_parent\"><img src=\"https://colab.research.google.com/assets/colab-badge.svg\" alt=\"Open In Colab\"/></a>"
      ]
    },
    {
      "cell_type": "code",
      "metadata": {
        "id": "Qe6eS_56-X12"
      },
      "source": [
        "# 텐서플로 2 버전 선택\r\n",
        "try:\r\n",
        "    # %tensorflow_version only exists in Colab.\r\n",
        "    %tensorflow_version 2.x\r\n",
        "except Exception:\r\n",
        "    pass"
      ],
      "execution_count": 1,
      "outputs": []
    },
    {
      "cell_type": "code",
      "metadata": {
        "colab": {
          "base_uri": "https://localhost:8080/"
        },
        "id": "pbFoIYyD-eZL",
        "outputId": "3eb340a7-d4b8-495b-b4e4-23be3bc52fe7"
      },
      "source": [
        "# 5.1 와인 데이터셋 불러오기\r\n",
        "import pandas as pd\r\n",
        "red = pd.read_csv('http://archive.ics.uci.edu/ml/machine-learning-databases/wine-quality/winequality-red.csv', sep=';')\r\n",
        "white = pd.read_csv('http://archive.ics.uci.edu/ml/machine-learning-databases/wine-quality/winequality-white.csv', sep=';')\r\n",
        "print(red.head())\r\n",
        "print(white.head())"
      ],
      "execution_count": 2,
      "outputs": [
        {
          "output_type": "stream",
          "text": [
            "   fixed acidity  volatile acidity  citric acid  ...  sulphates  alcohol  quality\n",
            "0            7.4              0.70         0.00  ...       0.56      9.4        5\n",
            "1            7.8              0.88         0.00  ...       0.68      9.8        5\n",
            "2            7.8              0.76         0.04  ...       0.65      9.8        5\n",
            "3           11.2              0.28         0.56  ...       0.58      9.8        6\n",
            "4            7.4              0.70         0.00  ...       0.56      9.4        5\n",
            "\n",
            "[5 rows x 12 columns]\n",
            "   fixed acidity  volatile acidity  citric acid  ...  sulphates  alcohol  quality\n",
            "0            7.0              0.27         0.36  ...       0.45      8.8        6\n",
            "1            6.3              0.30         0.34  ...       0.49      9.5        6\n",
            "2            8.1              0.28         0.40  ...       0.44     10.1        6\n",
            "3            7.2              0.23         0.32  ...       0.40      9.9        6\n",
            "4            7.2              0.23         0.32  ...       0.40      9.9        6\n",
            "\n",
            "[5 rows x 12 columns]\n"
          ],
          "name": "stdout"
        }
      ]
    },
    {
      "cell_type": "code",
      "metadata": {
        "colab": {
          "base_uri": "https://localhost:8080/"
        },
        "id": "0gK8osU6-fhz",
        "outputId": "fa5a40b9-12d5-41ff-bc08-22b9f615536e"
      },
      "source": [
        "print(red.shape)\r\n",
        "print(white.shape)"
      ],
      "execution_count": 3,
      "outputs": [
        {
          "output_type": "stream",
          "text": [
            "(1599, 12)\n",
            "(4898, 12)\n"
          ],
          "name": "stdout"
        }
      ]
    },
    {
      "cell_type": "code",
      "metadata": {
        "colab": {
          "base_uri": "https://localhost:8080/"
        },
        "id": "8lBHwsW7-gqq",
        "outputId": "08c60674-dbed-4133-87c9-b3098186d475"
      },
      "source": [
        "# 5.2 와인 데이터셋 합치기\r\n",
        "red['type'] = 0\r\n",
        "white['type'] = 1\r\n",
        "print(red.head(2))\r\n",
        "print(white.head(2))\r\n",
        "\r\n",
        "wine = pd.concat([red, white])\r\n",
        "print(wine.describe())"
      ],
      "execution_count": 4,
      "outputs": [
        {
          "output_type": "stream",
          "text": [
            "   fixed acidity  volatile acidity  citric acid  ...  alcohol  quality  type\n",
            "0            7.4              0.70          0.0  ...      9.4        5     0\n",
            "1            7.8              0.88          0.0  ...      9.8        5     0\n",
            "\n",
            "[2 rows x 13 columns]\n",
            "   fixed acidity  volatile acidity  citric acid  ...  alcohol  quality  type\n",
            "0            7.0              0.27         0.36  ...      8.8        6     1\n",
            "1            6.3              0.30         0.34  ...      9.5        6     1\n",
            "\n",
            "[2 rows x 13 columns]\n",
            "       fixed acidity  volatile acidity  ...      quality         type\n",
            "count    6497.000000       6497.000000  ...  6497.000000  6497.000000\n",
            "mean        7.215307          0.339666  ...     5.818378     0.753886\n",
            "std         1.296434          0.164636  ...     0.873255     0.430779\n",
            "min         3.800000          0.080000  ...     3.000000     0.000000\n",
            "25%         6.400000          0.230000  ...     5.000000     1.000000\n",
            "50%         7.000000          0.290000  ...     6.000000     1.000000\n",
            "75%         7.700000          0.400000  ...     6.000000     1.000000\n",
            "max        15.900000          1.580000  ...     9.000000     1.000000\n",
            "\n",
            "[8 rows x 13 columns]\n"
          ],
          "name": "stdout"
        }
      ]
    },
    {
      "cell_type": "code",
      "metadata": {
        "colab": {
          "base_uri": "https://localhost:8080/",
          "height": 318
        },
        "id": "ZUPddZui-i79",
        "outputId": "f3cbb648-7d72-49f4-e4a2-1cec3a8a1e99"
      },
      "source": [
        "# 5.3 레드 와인과 화이트 와인 type 히스토그램\r\n",
        "import matplotlib.pyplot as plt\r\n",
        "plt.hist(wine['type'])\r\n",
        "plt.xticks([0, 1])\r\n",
        "#plt.xticks([0, 1], ['red', 'white'])\r\n",
        "plt.show()\r\n",
        "\r\n",
        "print(wine['type'].value_counts())"
      ],
      "execution_count": 5,
      "outputs": [
        {
          "output_type": "display_data",
          "data": {
            "image/png": "[encoded data removed]",
            "text/plain": [
              "<Figure size 432x288 with 1 Axes>"
            ]
          },
          "metadata": {
            "tags": [],
            "needs_background": "light"
          }
        },
        {
          "output_type": "stream",
          "text": [
            "1    4898\n",
            "0    1599\n",
            "Name: type, dtype: int64\n"
          ],
          "name": "stdout"
        }
      ]
    },
    {
      "cell_type": "code",
      "metadata": {
        "colab": {
          "base_uri": "https://localhost:8080/"
        },
        "id": "G9G7Pgh8-kEU",
        "outputId": "da3f72ac-9b56-40b7-9f89-e1ab436aa7ca"
      },
      "source": [
        "# 5.4 데이터 요약 정보 확인\r\n",
        "print(wine.info())"
      ],
      "execution_count": 6,
      "outputs": [
        {
          "output_type": "stream",
          "text": [
            "<class 'pandas.core.frame.DataFrame'>\n",
            "Int64Index: 6497 entries, 0 to 4897\n",
            "Data columns (total 13 columns):\n",
            " #   Column                Non-Null Count  Dtype  \n",
            "---  ------                --------------  -----  \n",
            " 0   fixed acidity         6497 non-null   float64\n",
            " 1   volatile acidity      6497 non-null   float64\n",
            " 2   citric acid           6497 non-null   float64\n",
            " 3   residual sugar        6497 non-null   float64\n",
            " 4   chlorides             6497 non-null   float64\n",
            " 5   free sulfur dioxide   6497 non-null   float64\n",
            " 6   total sulfur dioxide  6497 non-null   float64\n",
            " 7   density               6497 non-null   float64\n",
            " 8   pH                    6497 non-null   float64\n",
            " 9   sulphates             6497 non-null   float64\n",
            " 10  alcohol               6497 non-null   float64\n",
            " 11  quality               6497 non-null   int64  \n",
            " 12  type                  6497 non-null   int64  \n",
            "dtypes: float64(11), int64(2)\n",
            "memory usage: 710.6 KB\n",
            "None\n"
          ],
          "name": "stdout"
        }
      ]
    },
    {
      "cell_type": "code",
      "metadata": {
        "colab": {
          "base_uri": "https://localhost:8080/"
        },
        "id": "lJ1xArpb-lUo",
        "outputId": "e59befae-7382-4d86-90e8-de35a45dc90d"
      },
      "source": [
        "# 5.5 데이터 정규화\r\n",
        "wine_norm = (wine - wine.min()) / (wine.max() - wine.min())\r\n",
        "print(wine_norm.head())\r\n",
        "print(wine_norm.describe())"
      ],
      "execution_count": 7,
      "outputs": [
        {
          "output_type": "stream",
          "text": [
            "   fixed acidity  volatile acidity  citric acid  ...   alcohol   quality  type\n",
            "0       0.297521          0.413333     0.000000  ...  0.202899  0.333333   0.0\n",
            "1       0.330579          0.533333     0.000000  ...  0.260870  0.333333   0.0\n",
            "2       0.330579          0.453333     0.024096  ...  0.260870  0.333333   0.0\n",
            "3       0.611570          0.133333     0.337349  ...  0.260870  0.500000   0.0\n",
            "4       0.297521          0.413333     0.000000  ...  0.202899  0.333333   0.0\n",
            "\n",
            "[5 rows x 13 columns]\n",
            "       fixed acidity  volatile acidity  ...      quality         type\n",
            "count    6497.000000       6497.000000  ...  6497.000000  6497.000000\n",
            "mean        0.282257          0.173111  ...     0.469730     0.753886\n",
            "std         0.107143          0.109758  ...     0.145543     0.430779\n",
            "min         0.000000          0.000000  ...     0.000000     0.000000\n",
            "25%         0.214876          0.100000  ...     0.333333     1.000000\n",
            "50%         0.264463          0.140000  ...     0.500000     1.000000\n",
            "75%         0.322314          0.213333  ...     0.500000     1.000000\n",
            "max         1.000000          1.000000  ...     1.000000     1.000000\n",
            "\n",
            "[8 rows x 13 columns]\n"
          ],
          "name": "stdout"
        }
      ]
    },
    {
      "cell_type": "code",
      "metadata": {
        "colab": {
          "base_uri": "https://localhost:8080/"
        },
        "id": "DV_eXH5j-mo8",
        "outputId": "2388275a-1ea9-4933-971f-d11239144f56"
      },
      "source": [
        "# 5.6 데이터 섞은 후 numpy array로 변환\r\n",
        "import numpy as np\r\n",
        "wine_shuffle = wine_norm.sample(frac=1)\r\n",
        "print(wine_shuffle.head())\r\n",
        "wine_np = wine_shuffle.to_numpy()\r\n",
        "print(wine_np[:5])"
      ],
      "execution_count": 8,
      "outputs": [
        {
          "output_type": "stream",
          "text": [
            "      fixed acidity  volatile acidity  citric acid  ...   alcohol   quality  type\n",
            "1512       0.289256          0.093333     0.295181  ...  0.434783  0.666667   1.0\n",
            "684        0.495868          0.600000     0.192771  ...  0.202899  0.333333   0.0\n",
            "483        0.561983          0.186667     0.361446  ...  0.202899  0.333333   0.0\n",
            "2137       0.280992          0.053333     0.156627  ...  0.304348  0.333333   1.0\n",
            "4816       0.190083          0.220000     0.120482  ...  0.376812  0.500000   1.0\n",
            "\n",
            "[5 rows x 13 columns]\n",
            "[[0.2892562  0.09333333 0.29518072 0.13496933 0.04152824 0.09722222\n",
            "  0.29493088 0.13090418 0.20930233 0.05617978 0.43478261 0.66666667\n",
            "  1.        ]\n",
            " [0.49586777 0.6        0.19277108 0.02607362 0.11461794 0.11805556\n",
            "  0.33640553 0.20994795 0.41085271 0.14606742 0.20289855 0.33333333\n",
            "  0.        ]\n",
            " [0.56198347 0.18666667 0.36144578 0.02453988 0.23754153 0.02083333\n",
            "  0.02764977 0.22151533 0.24806202 0.47191011 0.20289855 0.33333333\n",
            "  0.        ]\n",
            " [0.28099174 0.05333333 0.15662651 0.09969325 0.07475083 0.13888889\n",
            "  0.50230415 0.18295739 0.51162791 0.18539326 0.30434783 0.33333333\n",
            "  1.        ]\n",
            " [0.19008264 0.22       0.12048193 0.18404908 0.03820598 0.18402778\n",
            "  0.29953917 0.15519568 0.14728682 0.11797753 0.37681159 0.5\n",
            "  1.        ]]\n"
          ],
          "name": "stdout"
        }
      ]
    },
    {
      "cell_type": "code",
      "metadata": {
        "colab": {
          "base_uri": "https://localhost:8080/"
        },
        "id": "cg2Rq2Z6-nyb",
        "outputId": "bcb3eeb0-519e-4f98-9108-f351c5f98716"
      },
      "source": [
        "# 5.7 train 데이터와 test 데이터로 분리\r\n",
        "import tensorflow as tf\r\n",
        "train_idx = int(len(wine_np) * 0.8)\r\n",
        "train_X, train_Y = wine_np[:train_idx, :-1], wine_np[:train_idx, -1]\r\n",
        "test_X, test_Y = wine_np[train_idx:, :-1], wine_np[train_idx:, -1]\r\n",
        "print(train_X[0])\r\n",
        "print(train_Y[0])\r\n",
        "print(test_X[0])\r\n",
        "print(test_Y[0])\r\n",
        "train_Y = tf.keras.utils.to_categorical(train_Y, num_classes=2)\r\n",
        "test_Y = tf.keras.utils.to_categorical(test_Y, num_classes=2)\r\n",
        "print(train_Y[0])\r\n",
        "print(test_Y[0])"
      ],
      "execution_count": 9,
      "outputs": [
        {
          "output_type": "stream",
          "text": [
            "[0.2892562  0.09333333 0.29518072 0.13496933 0.04152824 0.09722222\n",
            " 0.29493088 0.13090418 0.20930233 0.05617978 0.43478261 0.66666667]\n",
            "1.0\n",
            "[0.44628099 0.1        0.21084337 0.15490798 0.04651163 0.11458333\n",
            " 0.3202765  0.21187584 0.28682171 0.05617978 0.24637681 0.33333333]\n",
            "1.0\n",
            "[0. 1.]\n",
            "[0. 1.]\n"
          ],
          "name": "stdout"
        }
      ]
    },
    {
      "cell_type": "code",
      "metadata": {
        "colab": {
          "base_uri": "https://localhost:8080/"
        },
        "id": "VKUUYtz8-pGA",
        "outputId": "08d97732-26b2-44d0-8a17-a900c05c2cdb"
      },
      "source": [
        "# 5.8 와인 데이터셋 분류 모델 생성\r\n",
        "import tensorflow as tf\r\n",
        "model = tf.keras.Sequential([\r\n",
        "    tf.keras.layers.Dense(units=48, activation='relu', input_shape=(12,)),\r\n",
        "    tf.keras.layers.Dense(units=24, activation='relu'),\r\n",
        "    tf.keras.layers.Dense(units=12, activation='relu'),\r\n",
        "    tf.keras.layers.Dense(units=2, activation='softmax')\r\n",
        "])\r\n",
        "\r\n",
        "model.compile(optimizer=tf.keras.optimizers.Adam(lr=0.07), loss='categorical_crossentropy', metrics=['accuracy'])\r\n",
        "\r\n",
        "model.summary()"
      ],
      "execution_count": 10,
      "outputs": [
        {
          "output_type": "stream",
          "text": [
            "Model: \"sequential\"\n",
            "_________________________________________________________________\n",
            "Layer (type)                 Output Shape              Param #   \n",
            "=================================================================\n",
            "dense (Dense)                (None, 48)                624       \n",
            "_________________________________________________________________\n",
            "dense_1 (Dense)              (None, 24)                1176      \n",
            "_________________________________________________________________\n",
            "dense_2 (Dense)              (None, 12)                300       \n",
            "_________________________________________________________________\n",
            "dense_3 (Dense)              (None, 2)                 26        \n",
            "=================================================================\n",
            "Total params: 2,126\n",
            "Trainable params: 2,126\n",
            "Non-trainable params: 0\n",
            "_________________________________________________________________\n"
          ],
          "name": "stdout"
        }
      ]
    },
    {
      "cell_type": "code",
      "metadata": {
        "colab": {
          "base_uri": "https://localhost:8080/",
          "height": 279
        },
        "id": "G72NT4Lw-qn9",
        "outputId": "54fe36e7-8011-4b1f-9352-06a55ff8b076"
      },
      "source": [
        "# 그림 5.5 출력 코드\r\n",
        "import matplotlib.pyplot as plt\r\n",
        "import math\r\n",
        "import numpy as np\r\n",
        "x = np.arange(-2, 2, 0.01)\r\n",
        "e_x = math.e ** x\r\n",
        "\r\n",
        "plt.axhline(0, color='gray')\r\n",
        "plt.axvline(0, color='gray')\r\n",
        "plt.plot(x, x, 'b-', label='y=x')\r\n",
        "plt.plot(x, e_x, 'g.', label='y=e^x')\r\n",
        "plt.xlabel('X')\r\n",
        "plt.ylabel('Y')\r\n",
        "plt.legend()\r\n",
        "plt.show()"
      ],
      "execution_count": 11,
      "outputs": [
        {
          "output_type": "display_data",
          "data": {
            "image/png": "[encoded data removed]",
            "text/plain": [
              "<Figure size 432x288 with 1 Axes>"
            ]
          },
          "metadata": {
            "tags": [],
            "needs_background": "light"
          }
        }
      ]
    },
    {
      "cell_type": "code",
      "metadata": {
        "colab": {
          "base_uri": "https://localhost:8080/"
        },
        "id": "QUu9wc0H-r42",
        "outputId": "530e927a-07bb-459c-a53b-1310d6a38f24"
      },
      "source": [
        "# 5.9 와인 데이터셋 분류 모델 학습\r\n",
        "history = model.fit(train_X, train_Y, epochs=25, batch_size=32, validation_split=0.25)"
      ],
      "execution_count": 12,
      "outputs": [
        {
          "output_type": "stream",
          "text": [
            "Epoch 1/25\n",
            "122/122 [==============================] - 0s 3ms/step - loss: 0.1237 - accuracy: 0.9646 - val_loss: 0.0473 - val_accuracy: 0.9908\n",
            "Epoch 2/25\n",
            "122/122 [==============================] - 0s 2ms/step - loss: 0.0621 - accuracy: 0.9831 - val_loss: 0.0333 - val_accuracy: 0.9908\n",
            "Epoch 3/25\n",
            "122/122 [==============================] - 0s 2ms/step - loss: 0.0527 - accuracy: 0.9867 - val_loss: 0.0394 - val_accuracy: 0.9908\n",
            "Epoch 4/25\n",
            "122/122 [==============================] - 0s 2ms/step - loss: 0.0477 - accuracy: 0.9872 - val_loss: 0.0392 - val_accuracy: 0.9900\n",
            "Epoch 5/25\n",
            "122/122 [==============================] - 0s 2ms/step - loss: 0.0602 - accuracy: 0.9859 - val_loss: 0.0425 - val_accuracy: 0.9892\n",
            "Epoch 6/25\n",
            "122/122 [==============================] - 0s 1ms/step - loss: 0.0570 - accuracy: 0.9864 - val_loss: 0.0295 - val_accuracy: 0.9900\n",
            "Epoch 7/25\n",
            "122/122 [==============================] - 0s 2ms/step - loss: 0.0464 - accuracy: 0.9859 - val_loss: 0.1538 - val_accuracy: 0.9438\n",
            "Epoch 8/25\n",
            "122/122 [==============================] - 0s 2ms/step - loss: 0.0472 - accuracy: 0.9869 - val_loss: 0.0298 - val_accuracy: 0.9900\n",
            "Epoch 9/25\n",
            "122/122 [==============================] - 0s 2ms/step - loss: 0.0377 - accuracy: 0.9897 - val_loss: 0.0464 - val_accuracy: 0.9900\n",
            "Epoch 10/25\n",
            "122/122 [==============================] - 0s 2ms/step - loss: 0.0411 - accuracy: 0.9890 - val_loss: 0.0346 - val_accuracy: 0.9915\n",
            "Epoch 11/25\n",
            "122/122 [==============================] - 0s 1ms/step - loss: 0.0455 - accuracy: 0.9872 - val_loss: 0.0281 - val_accuracy: 0.9908\n",
            "Epoch 12/25\n",
            "122/122 [==============================] - 0s 2ms/step - loss: 0.0414 - accuracy: 0.9895 - val_loss: 0.0281 - val_accuracy: 0.9892\n",
            "Epoch 13/25\n",
            "122/122 [==============================] - 0s 1ms/step - loss: 0.0365 - accuracy: 0.9923 - val_loss: 0.0354 - val_accuracy: 0.9900\n",
            "Epoch 14/25\n",
            "122/122 [==============================] - 0s 2ms/step - loss: 0.0414 - accuracy: 0.9902 - val_loss: 0.0447 - val_accuracy: 0.9900\n",
            "Epoch 15/25\n",
            "122/122 [==============================] - 0s 2ms/step - loss: 0.0401 - accuracy: 0.9885 - val_loss: 0.0314 - val_accuracy: 0.9915\n",
            "Epoch 16/25\n",
            "122/122 [==============================] - 0s 2ms/step - loss: 0.0412 - accuracy: 0.9900 - val_loss: 0.0331 - val_accuracy: 0.9915\n",
            "Epoch 17/25\n",
            "122/122 [==============================] - 0s 1ms/step - loss: 0.0388 - accuracy: 0.9895 - val_loss: 0.0410 - val_accuracy: 0.9892\n",
            "Epoch 18/25\n",
            "122/122 [==============================] - 0s 1ms/step - loss: 0.0448 - accuracy: 0.9897 - val_loss: 0.0303 - val_accuracy: 0.9915\n",
            "Epoch 19/25\n",
            "122/122 [==============================] - 0s 1ms/step - loss: 0.0421 - accuracy: 0.9895 - val_loss: 0.0547 - val_accuracy: 0.9877\n",
            "Epoch 20/25\n",
            "122/122 [==============================] - 0s 2ms/step - loss: 0.0395 - accuracy: 0.9905 - val_loss: 0.0461 - val_accuracy: 0.9892\n",
            "Epoch 21/25\n",
            "122/122 [==============================] - 0s 1ms/step - loss: 0.0423 - accuracy: 0.9882 - val_loss: 0.0275 - val_accuracy: 0.9915\n",
            "Epoch 22/25\n",
            "122/122 [==============================] - 0s 1ms/step - loss: 0.0364 - accuracy: 0.9918 - val_loss: 0.0274 - val_accuracy: 0.9908\n",
            "Epoch 23/25\n",
            "122/122 [==============================] - 0s 2ms/step - loss: 0.0424 - accuracy: 0.9887 - val_loss: 0.0490 - val_accuracy: 0.9900\n",
            "Epoch 24/25\n",
            "122/122 [==============================] - 0s 2ms/step - loss: 0.0367 - accuracy: 0.9913 - val_loss: 0.0276 - val_accuracy: 0.9908\n",
            "Epoch 25/25\n",
            "122/122 [==============================] - 0s 2ms/step - loss: 0.0354 - accuracy: 0.9890 - val_loss: 0.0580 - val_accuracy: 0.9854\n"
          ],
          "name": "stdout"
        }
      ]
    },
    {
      "cell_type": "code",
      "metadata": {
        "colab": {
          "base_uri": "https://localhost:8080/",
          "height": 283
        },
        "id": "xnEV1yQ8-tMa",
        "outputId": "5205d7aa-489e-4616-cb83-c711f9857ccf"
      },
      "source": [
        "# 5.10 분류 모델 학습 결과 시각화\r\n",
        "import matplotlib.pyplot as plt\r\n",
        "plt.figure(figsize=(12, 4))\r\n",
        "\r\n",
        "plt.subplot(1, 2, 1)\r\n",
        "plt.plot(history.history['loss'], 'b-', label='loss')\r\n",
        "plt.plot(history.history['val_loss'], 'r--', label='val_loss')\r\n",
        "plt.xlabel('Epoch')\r\n",
        "plt.legend()\r\n",
        "\r\n",
        "plt.subplot(1, 2, 2)\r\n",
        "plt.plot(history.history['accuracy'], 'g-', label='accuracy')\r\n",
        "plt.plot(history.history['val_accuracy'], 'k--', label='val_accuracy')\r\n",
        "plt.xlabel('Epoch')\r\n",
        "plt.ylim(0.7, 1)\r\n",
        "plt.legend()\r\n",
        "\r\n",
        "plt.show()"
      ],
      "execution_count": 13,
      "outputs": [
        {
          "output_type": "display_data",
          "data": {
            "image/png": "[encoded data removed]",
            "text/plain": [
              "<Figure size 864x288 with 2 Axes>"
            ]
          },
          "metadata": {
            "tags": [],
            "needs_background": "light"
          }
        }
      ]
    },
    {
      "cell_type": "code",
      "metadata": {
        "colab": {
          "base_uri": "https://localhost:8080/"
        },
        "id": "Gr1rI2IS-v0n",
        "outputId": "9b875e23-9989-4fe8-e9e9-454117839d91"
      },
      "source": [
        "# 5.11 분류 모델 평가\r\n",
        "model.evaluate(test_X, test_Y)"
      ],
      "execution_count": 14,
      "outputs": [
        {
          "output_type": "stream",
          "text": [
            "41/41 [==============================] - 0s 916us/step - loss: 0.0474 - accuracy: 0.9823\n"
          ],
          "name": "stdout"
        },
        {
          "output_type": "execute_result",
          "data": {
            "text/plain": [
              "[0.04744015261530876, 0.9823076725006104]"
            ]
          },
          "metadata": {
            "tags": []
          },
          "execution_count": 14
        }
      ]
    },
    {
      "cell_type": "code",
      "metadata": {
        "colab": {
          "base_uri": "https://localhost:8080/"
        },
        "id": "2IV_ULTb-w6X",
        "outputId": "a30f805d-ca94-498d-a4a9-ca2c5f35c4c9"
      },
      "source": [
        "# 5.12 품질 데이터 확인\r\n",
        "print(wine['quality'].describe())\r\n",
        "print(wine['quality'].value_counts())"
      ],
      "execution_count": 15,
      "outputs": [
        {
          "output_type": "stream",
          "text": [
            "count    6497.000000\n",
            "mean        5.818378\n",
            "std         0.873255\n",
            "min         3.000000\n",
            "25%         5.000000\n",
            "50%         6.000000\n",
            "75%         6.000000\n",
            "max         9.000000\n",
            "Name: quality, dtype: float64\n",
            "6    2836\n",
            "5    2138\n",
            "7    1079\n",
            "4     216\n",
            "8     193\n",
            "3      30\n",
            "9       5\n",
            "Name: quality, dtype: int64\n"
          ],
          "name": "stdout"
        }
      ]
    },
    {
      "cell_type": "code",
      "metadata": {
        "colab": {
          "base_uri": "https://localhost:8080/",
          "height": 265
        },
        "id": "DHzhJuCd-xzZ",
        "outputId": "86e66856-5344-45a7-af7f-0179f6fe2be6"
      },
      "source": [
        "# 5.13 품질 히스토그램 시각화\r\n",
        "import matplotlib.pyplot as plt\r\n",
        "plt.hist(wine['quality'], bins=7, rwidth=0.8)\r\n",
        "plt.show()"
      ],
      "execution_count": 16,
      "outputs": [
        {
          "output_type": "display_data",
          "data": {
            "image/png": "[encoded data removed]",
            "text/plain": [
              "<Figure size 432x288 with 1 Axes>"
            ]
          },
          "metadata": {
            "tags": [],
            "needs_background": "light"
          }
        }
      ]
    },
    {
      "cell_type": "code",
      "metadata": {
        "colab": {
          "base_uri": "https://localhost:8080/"
        },
        "id": "FtpsaL2p-2x-",
        "outputId": "63179201-8d93-45f5-9316-2e93f42a7a5f"
      },
      "source": [
        "# 5.14 품질을 3개의 범주(좋음, 보통, 나쁨)로 재분류\r\n",
        "wine.loc[wine['quality'] <= 5, 'new_quality'] = 0\r\n",
        "wine.loc[wine['quality'] == 6, 'new_quality'] = 1\r\n",
        "wine.loc[wine['quality'] >= 7, 'new_quality'] = 2\r\n",
        "\r\n",
        "print(wine['new_quality'].describe())\r\n",
        "print(wine['new_quality'].value_counts())"
      ],
      "execution_count": 17,
      "outputs": [
        {
          "output_type": "stream",
          "text": [
            "count    6497.000000\n",
            "mean        0.829614\n",
            "std         0.731124\n",
            "min         0.000000\n",
            "25%         0.000000\n",
            "50%         1.000000\n",
            "75%         1.000000\n",
            "max         2.000000\n",
            "Name: new_quality, dtype: float64\n",
            "1.0    2836\n",
            "0.0    2384\n",
            "2.0    1277\n",
            "Name: new_quality, dtype: int64\n"
          ],
          "name": "stdout"
        }
      ]
    },
    {
      "cell_type": "code",
      "metadata": {
        "id": "Y_Gj_VuO-4Z_"
      },
      "source": [
        "# 5.15 데이터 정규화 및 train, test 데이터 분리\r\n",
        "del wine['quality']\r\n",
        "wine_norm = (wine - wine.min()) / (wine.max() - wine.min())\r\n",
        "wine_shuffle = wine_norm.sample(frac=1)\r\n",
        "wine_np = wine_shuffle.to_numpy()\r\n",
        "\r\n",
        "train_idx = int(len(wine_np) * 0.8)\r\n",
        "train_X, train_Y = wine_np[:train_idx, :-1], wine_np[:train_idx, -1]\r\n",
        "test_X, test_Y = wine_np[train_idx:, :-1], wine_np[train_idx:, -1]\r\n",
        "train_Y = tf.keras.utils.to_categorical(train_Y, num_classes=3)\r\n",
        "test_Y = tf.keras.utils.to_categorical(test_Y, num_classes=3)"
      ],
      "execution_count": 18,
      "outputs": []
    },
    {
      "cell_type": "code",
      "metadata": {
        "colab": {
          "base_uri": "https://localhost:8080/"
        },
        "id": "j0vJ3wwM-5-l",
        "outputId": "88b317c3-1b96-4446-dc38-0b6c8af546ec"
      },
      "source": [
        "# 5.16 와인 데이터셋 다항 분류 모델 생성 및 학습\r\n",
        "model = tf.keras.Sequential([\r\n",
        "    tf.keras.layers.Dense(units=48, activation='relu', input_shape=(12,)),\r\n",
        "    tf.keras.layers.Dense(units=24, activation='relu'),\r\n",
        "    tf.keras.layers.Dense(units=12, activation='relu'),\r\n",
        "    tf.keras.layers.Dense(units=3, activation='softmax')\r\n",
        "])\r\n",
        "\r\n",
        "model.compile(optimizer=tf.keras.optimizers.Adam(lr=0.07), loss='categorical_crossentropy', metrics=['accuracy'])\r\n",
        "\r\n",
        "history = model.fit(train_X, train_Y, epochs=25, batch_size=32, validation_split=0.25)"
      ],
      "execution_count": 19,
      "outputs": [
        {
          "output_type": "stream",
          "text": [
            "Epoch 1/25\n",
            "122/122 [==============================] - 0s 3ms/step - loss: 0.4867 - accuracy: 0.8016 - val_loss: 0.4696 - val_accuracy: 0.8100\n",
            "Epoch 2/25\n",
            "122/122 [==============================] - 0s 2ms/step - loss: 0.4314 - accuracy: 0.8032 - val_loss: 0.4222 - val_accuracy: 0.8100\n",
            "Epoch 3/25\n",
            "122/122 [==============================] - 0s 2ms/step - loss: 0.4089 - accuracy: 0.8088 - val_loss: 0.4130 - val_accuracy: 0.8100\n",
            "Epoch 4/25\n",
            "122/122 [==============================] - 0s 2ms/step - loss: 0.4167 - accuracy: 0.8075 - val_loss: 0.4172 - val_accuracy: 0.8100\n",
            "Epoch 5/25\n",
            "122/122 [==============================] - 0s 2ms/step - loss: 0.4165 - accuracy: 0.7998 - val_loss: 0.4059 - val_accuracy: 0.8100\n",
            "Epoch 6/25\n",
            "122/122 [==============================] - 0s 2ms/step - loss: 0.4149 - accuracy: 0.8019 - val_loss: 0.4044 - val_accuracy: 0.8100\n",
            "Epoch 7/25\n",
            "122/122 [==============================] - 0s 1ms/step - loss: 0.4091 - accuracy: 0.8083 - val_loss: 0.4014 - val_accuracy: 0.8231\n",
            "Epoch 8/25\n",
            "122/122 [==============================] - 0s 1ms/step - loss: 0.4040 - accuracy: 0.8119 - val_loss: 0.3979 - val_accuracy: 0.8177\n",
            "Epoch 9/25\n",
            "122/122 [==============================] - 1s 7ms/step - loss: 0.4076 - accuracy: 0.8078 - val_loss: 0.4047 - val_accuracy: 0.8100\n",
            "Epoch 10/25\n",
            "122/122 [==============================] - 0s 3ms/step - loss: 0.4023 - accuracy: 0.8188 - val_loss: 0.3977 - val_accuracy: 0.8177\n",
            "Epoch 11/25\n",
            "122/122 [==============================] - 0s 2ms/step - loss: 0.4151 - accuracy: 0.8160 - val_loss: 0.4302 - val_accuracy: 0.7800\n",
            "Epoch 12/25\n",
            "122/122 [==============================] - 0s 2ms/step - loss: 0.4061 - accuracy: 0.8050 - val_loss: 0.4225 - val_accuracy: 0.7700\n",
            "Epoch 13/25\n",
            "122/122 [==============================] - 0s 2ms/step - loss: 0.4094 - accuracy: 0.8045 - val_loss: 0.4101 - val_accuracy: 0.8146\n",
            "Epoch 14/25\n",
            "122/122 [==============================] - 0s 2ms/step - loss: 0.4131 - accuracy: 0.8127 - val_loss: 0.4413 - val_accuracy: 0.8100\n",
            "Epoch 15/25\n",
            "122/122 [==============================] - 0s 2ms/step - loss: 0.4116 - accuracy: 0.8099 - val_loss: 0.4174 - val_accuracy: 0.8146\n",
            "Epoch 16/25\n",
            "122/122 [==============================] - 0s 1ms/step - loss: 0.4035 - accuracy: 0.8109 - val_loss: 0.3951 - val_accuracy: 0.8100\n",
            "Epoch 17/25\n",
            "122/122 [==============================] - 0s 1ms/step - loss: 0.4024 - accuracy: 0.8045 - val_loss: 0.4173 - val_accuracy: 0.8100\n",
            "Epoch 18/25\n",
            "122/122 [==============================] - 0s 2ms/step - loss: 0.4014 - accuracy: 0.8101 - val_loss: 0.3988 - val_accuracy: 0.8254\n",
            "Epoch 19/25\n",
            "122/122 [==============================] - 0s 2ms/step - loss: 0.4024 - accuracy: 0.8088 - val_loss: 0.3937 - val_accuracy: 0.8292\n",
            "Epoch 20/25\n",
            "122/122 [==============================] - 0s 1ms/step - loss: 0.4024 - accuracy: 0.8088 - val_loss: 0.3946 - val_accuracy: 0.8300\n",
            "Epoch 21/25\n",
            "122/122 [==============================] - 0s 2ms/step - loss: 0.3987 - accuracy: 0.8160 - val_loss: 0.3934 - val_accuracy: 0.8277\n",
            "Epoch 22/25\n",
            "122/122 [==============================] - 0s 2ms/step - loss: 0.3990 - accuracy: 0.8145 - val_loss: 0.4084 - val_accuracy: 0.8100\n",
            "Epoch 23/25\n",
            "122/122 [==============================] - 0s 2ms/step - loss: 0.3968 - accuracy: 0.8096 - val_loss: 0.3912 - val_accuracy: 0.8308\n",
            "Epoch 24/25\n",
            "122/122 [==============================] - 0s 2ms/step - loss: 0.4041 - accuracy: 0.8073 - val_loss: 0.3974 - val_accuracy: 0.8231\n",
            "Epoch 25/25\n",
            "122/122 [==============================] - 0s 1ms/step - loss: 0.4009 - accuracy: 0.8191 - val_loss: 0.4705 - val_accuracy: 0.7854\n"
          ],
          "name": "stdout"
        }
      ]
    },
    {
      "cell_type": "code",
      "metadata": {
        "colab": {
          "base_uri": "https://localhost:8080/",
          "height": 283
        },
        "id": "nIfS1aGV-7HS",
        "outputId": "983c01fe-d31a-4240-fc47-cfb135060de4"
      },
      "source": [
        "# 5.17 다항 분류 모델 학습 결과 시각화\r\n",
        "import matplotlib.pyplot as plt\r\n",
        "plt.figure(figsize=(12, 4))\r\n",
        "\r\n",
        "plt.subplot(1, 2, 1)\r\n",
        "plt.plot(history.history['loss'], 'b-', label='loss')\r\n",
        "plt.plot(history.history['val_loss'], 'r--', label='val_loss')\r\n",
        "plt.xlabel('Epoch')\r\n",
        "plt.legend()\r\n",
        "\r\n",
        "plt.subplot(1, 2, 2)\r\n",
        "plt.plot(history.history['accuracy'], 'g-', label='accuracy')\r\n",
        "plt.plot(history.history['val_accuracy'], 'k--', label='val_accuracy')\r\n",
        "plt.xlabel('Epoch')\r\n",
        "plt.ylim(0.7, 1)\r\n",
        "plt.legend()\r\n",
        "\r\n",
        "plt.show()"
      ],
      "execution_count": 20,
      "outputs": [
        {
          "output_type": "display_data",
          "data": {
            "image/png": "[encoded data removed]",
            "text/plain": [
              "<Figure size 864x288 with 2 Axes>"
            ]
          },
          "metadata": {
            "tags": [],
            "needs_background": "light"
          }
        }
      ]
    },
    {
      "cell_type": "code",
      "metadata": {
        "colab": {
          "base_uri": "https://localhost:8080/"
        },
        "id": "TSyUteJX-9C_",
        "outputId": "28ac0732-d6e8-4558-dade-7ab1037bf652"
      },
      "source": [
        "# 5.18 다항 분류 모델 평가\r\n",
        "model.evaluate(test_X, test_Y)"
      ],
      "execution_count": 22,
      "outputs": [
        {
          "output_type": "stream",
          "text": [
            "41/41 [==============================] - 0s 862us/step - loss: 0.4613 - accuracy: 0.7885\n"
          ],
          "name": "stdout"
        },
        {
          "output_type": "execute_result",
          "data": {
            "text/plain": [
              "[0.4612562954425812, 0.7884615659713745]"
            ]
          },
          "metadata": {
            "tags": []
          },
          "execution_count": 22
        }
      ]
    },
    {
      "cell_type": "code",
      "metadata": {
        "colab": {
          "base_uri": "https://localhost:8080/"
        },
        "id": "XHaKvYFx_HqN",
        "outputId": "0cfd6af5-7564-455c-e5dd-7971562845a8"
      },
      "source": [
        "# 5.19 Fashion MNIST 데이터셋 불러오기\r\n",
        "fashion_mnist = tf.keras.datasets.fashion_mnist\r\n",
        "(train_X, train_Y), (test_X, test_Y) = fashion_mnist.load_data()\r\n",
        "\r\n",
        "print(len(train_X), len(test_X))"
      ],
      "execution_count": 23,
      "outputs": [
        {
          "output_type": "stream",
          "text": [
            "Downloading data from https://storage.googleapis.com/tensorflow/tf-keras-datasets/train-labels-idx1-ubyte.gz\n",
            "32768/29515 [=================================] - 0s 0us/step\n",
            "Downloading data from https://storage.googleapis.com/tensorflow/tf-keras-datasets/train-images-idx3-ubyte.gz\n",
            "26427392/26421880 [==============================] - 0s 0us/step\n",
            "Downloading data from https://storage.googleapis.com/tensorflow/tf-keras-datasets/t10k-labels-idx1-ubyte.gz\n",
            "8192/5148 [===============================================] - 0s 0us/step\n",
            "Downloading data from https://storage.googleapis.com/tensorflow/tf-keras-datasets/t10k-images-idx3-ubyte.gz\n",
            "4423680/4422102 [==============================] - 0s 0us/step\n",
            "60000 10000\n"
          ],
          "name": "stdout"
        }
      ]
    },
    {
      "cell_type": "code",
      "metadata": {
        "colab": {
          "base_uri": "https://localhost:8080/",
          "height": 283
        },
        "id": "wQtvpFWi_PfT",
        "outputId": "e28b4a5a-33a8-4a47-da72-508da5bfe73e"
      },
      "source": [
        "# 5.20 데이터 확인\r\n",
        "import matplotlib.pyplot as plt\r\n",
        "plt.imshow(train_X[0], cmap='gray')\r\n",
        "plt.colorbar()\r\n",
        "plt.show()\r\n",
        "\r\n",
        "print(train_Y[0])"
      ],
      "execution_count": 24,
      "outputs": [
        {
          "output_type": "display_data",
          "data": {
            "image/png": "[encoded data removed]",
            "text/plain": [
              "<Figure size 432x288 with 2 Axes>"
            ]
          },
          "metadata": {
            "tags": [],
            "needs_background": "light"
          }
        },
        {
          "output_type": "stream",
          "text": [
            "9\n"
          ],
          "name": "stdout"
        }
      ]
    },
    {
      "cell_type": "code",
      "metadata": {
        "id": "l7yhnV96_Qkm"
      },
      "source": [
        ""
      ],
      "execution_count": null,
      "outputs": []
    }
  ]
}