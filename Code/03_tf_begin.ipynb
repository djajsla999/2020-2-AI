{
  "nbformat": 4,
  "nbformat_minor": 0,
  "metadata": {
    "colab": {
      "name": "03-tf-begin.ipynb",
      "provenance": [],
      "collapsed_sections": [],
      "authorship_tag": "ABX9TyP24FDvdqJB+Vj663/VrabY",
      "include_colab_link": true
    },
    "kernelspec": {
      "name": "python3",
      "display_name": "Python 3"
    }
  },
  "cells": [
    {
      "cell_type": "markdown",
      "metadata": {
        "id": "view-in-github",
        "colab_type": "text"
      },
      "source": [
        "<a href=\"https://colab.research.google.com/github/djajsla999/2020-2-AI/blob/master/Code/03_tf_begin.ipynb\" target=\"_parent\"><img src=\"https://colab.research.google.com/assets/colab-badge.svg\" alt=\"Open In Colab\"/></a>"
      ]
    },
    {
      "cell_type": "code",
      "metadata": {
        "id": "442UEdzNJ4az",
        "colab_type": "code",
        "colab": {
          "base_uri": "https://localhost:8080/",
          "height": 54
        },
        "outputId": "8912fa06-ff6c-4c0c-95fe-95d6cb2068b7"
      },
      "source": [
        "import tensorflow as tf\n",
        "tf.__version__\n",
        "# 랜덤한 수 얻기 (균일 분포)\n",
        "rand = tf.random.uniform([5], 0, 5)\n",
        "print(rand)"
      ],
      "execution_count": null,
      "outputs": [
        {
          "output_type": "stream",
          "text": [
            "tf.Tensor([1.1190438  1.980179   0.38084507 3.131507   1.7852962 ], shape=(5,), dtype=float32)\n"
          ],
          "name": "stdout"
        }
      ]
    },
    {
      "cell_type": "code",
      "metadata": {
        "id": "k1rO7CUVK6PM",
        "colab_type": "code",
        "colab": {
          "base_uri": "https://localhost:8080/",
          "height": 370
        },
        "outputId": "1bc3cb27-ff70-41ba-c52b-9c9273fa5f55"
      },
      "source": [
        "import matplotlib.pyplot as plt\n",
        "rand = tf.random.uniform([10000], 0, 50)\n",
        "plt.hist(rand, bins=10)"
      ],
      "execution_count": null,
      "outputs": [
        {
          "output_type": "execute_result",
          "data": {
            "text/plain": [
              "(array([ 985.,  915., 1024., 1008., 1024.,  974., 1075.,  957., 1040.,\n",
              "         998.]),\n",
              " array([3.1471252e-03, 5.0022097e+00, 1.0001272e+01, 1.5000334e+01,\n",
              "        1.9999397e+01, 2.4998459e+01, 2.9997520e+01, 3.4996582e+01,\n",
              "        3.9995647e+01, 4.4994709e+01, 4.9993771e+01], dtype=float32),\n",
              " <a list of 10 Patch objects>)"
            ]
          },
          "metadata": {
            "tags": []
          },
          "execution_count": 8
        },
        {
          "output_type": "display_data",
          "data": {
            "image/png": "[encoded data removed]",
            "text/plain": [
              "<Figure size 432x288 with 1 Axes>"
            ]
          },
          "metadata": {
            "tags": [],
            "needs_background": "light"
          }
        }
      ]
    },
    {
      "cell_type": "code",
      "metadata": {
        "id": "CG82i_RLLsXn",
        "colab_type": "code",
        "colab": {
          "base_uri": "https://localhost:8080/",
          "height": 34
        },
        "outputId": "b2e5758b-2a14-416a-bfe4-6b8697a8c627"
      },
      "source": [
        "# 랜덤한 수 여러개 얻기 (정규 분포)\n",
        "rand = tf.random.normal([4], 0, 1)\n",
        "print(rand)"
      ],
      "execution_count": null,
      "outputs": [
        {
          "output_type": "stream",
          "text": [
            "tf.Tensor([ 0.03891469  1.0960205  -0.57782847 -0.16778812], shape=(4,), dtype=float32)\n"
          ],
          "name": "stdout"
        }
      ]
    },
    {
      "cell_type": "code",
      "metadata": {
        "id": "EhAan2AFMF_O",
        "colab_type": "code",
        "colab": {
          "base_uri": "https://localhost:8080/",
          "height": 353
        },
        "outputId": "9d3323d4-1576-428e-dbb6-4283f39a5ea7"
      },
      "source": [
        "rand = tf.random.normal([100], 0, 1)\n",
        "plt.hist(rand, bins=10)"
      ],
      "execution_count": null,
      "outputs": [
        {
          "output_type": "execute_result",
          "data": {
            "text/plain": [
              "(array([ 4.,  8., 13., 11., 20., 17., 15.,  8.,  3.,  1.]),\n",
              " array([-2.1653943 , -1.7352005 , -1.3050067 , -0.874813  , -0.44461927,\n",
              "        -0.01442552,  0.41576824,  0.845962  ,  1.2761557 ,  1.7063495 ,\n",
              "         2.1365433 ], dtype=float32),\n",
              " <a list of 10 Patch objects>)"
            ]
          },
          "metadata": {
            "tags": []
          },
          "execution_count": 12
        },
        {
          "output_type": "display_data",
          "data": {
            "image/png": "[encoded data removed]",
            "text/plain": [
              "<Figure size 432x288 with 1 Axes>"
            ]
          },
          "metadata": {
            "tags": [],
            "needs_background": "light"
          }
        }
      ]
    },
    {
      "cell_type": "code",
      "metadata": {
        "id": "sGz4IT9iNEGG",
        "colab_type": "code",
        "colab": {
          "base_uri": "https://localhost:8080/",
          "height": 961
        },
        "outputId": "3ef2bd69-651f-4344-f987-ea1b4035835e"
      },
      "source": [
        "import matplotlib.pyplot as plt\n",
        "\n",
        "#부분으로 그리기\n",
        "rand1 = tf.random.normal([1000], 0, 1)\n",
        "rand2 = tf.random.uniform([2000], 0, 1)\n",
        "\n",
        "plt.rcParams[\"figure.figsize\"] = (12,6)\n",
        "fig, axes = plt.subplots(1, 2, sharex=True, sharey=True)\n",
        "axes[0].hist(rand1, bins=100)\n",
        "axes[1].hist(rand2, bins=100)\n"
      ],
      "execution_count": null,
      "outputs": [
        {
          "output_type": "execute_result",
          "data": {
            "text/plain": [
              "(array([17., 20., 16., 26., 25., 19., 24., 16., 28., 20., 10., 24., 18.,\n",
              "        20., 17., 14., 27., 26., 18., 20., 27., 25., 19., 28., 13., 19.,\n",
              "        17., 15., 24., 16., 21., 25., 23., 27., 24., 27., 19., 24., 20.,\n",
              "        14., 20., 30., 17., 19., 15., 23., 20., 28., 18., 16., 24., 14.,\n",
              "        28., 23., 19., 28., 18., 19., 26., 25., 12., 18., 17., 20., 25.,\n",
              "        22., 24., 25., 21., 19., 28., 13., 16., 17., 10., 20., 17., 16.,\n",
              "        19., 19., 15., 19., 15., 21., 18., 25., 16., 17., 20., 20., 15.,\n",
              "        22., 12., 26., 20., 23., 16., 11., 11., 18.]),\n",
              " array([6.34312630e-04, 1.06270965e-02, 2.06198804e-02, 3.06126662e-02,\n",
              "        4.06054482e-02, 5.05982339e-02, 6.05910197e-02, 7.05838054e-02,\n",
              "        8.05765837e-02, 9.05693695e-02, 1.00562155e-01, 1.10554941e-01,\n",
              "        1.20547727e-01, 1.30540505e-01, 1.40533298e-01, 1.50526077e-01,\n",
              "        1.60518855e-01, 1.70511648e-01, 1.80504426e-01, 1.90497220e-01,\n",
              "        2.00489998e-01, 2.10482776e-01, 2.20475569e-01, 2.30468348e-01,\n",
              "        2.40461141e-01, 2.50453919e-01, 2.60446697e-01, 2.70439476e-01,\n",
              "        2.80432284e-01, 2.90425062e-01, 3.00417840e-01, 3.10410619e-01,\n",
              "        3.20403397e-01, 3.30396205e-01, 3.40388983e-01, 3.50381762e-01,\n",
              "        3.60374540e-01, 3.70367318e-01, 3.80360126e-01, 3.90352905e-01,\n",
              "        4.00345683e-01, 4.10338461e-01, 4.20331240e-01, 4.30324048e-01,\n",
              "        4.40316826e-01, 4.50309604e-01, 4.60302383e-01, 4.70295161e-01,\n",
              "        4.80287969e-01, 4.90280747e-01, 5.00273526e-01, 5.10266304e-01,\n",
              "        5.20259082e-01, 5.30251861e-01, 5.40244639e-01, 5.50237417e-01,\n",
              "        5.60230255e-01, 5.70223033e-01, 5.80215812e-01, 5.90208590e-01,\n",
              "        6.00201368e-01, 6.10194147e-01, 6.20186925e-01, 6.30179703e-01,\n",
              "        6.40172482e-01, 6.50165319e-01, 6.60158098e-01, 6.70150876e-01,\n",
              "        6.80143654e-01, 6.90136433e-01, 7.00129211e-01, 7.10121989e-01,\n",
              "        7.20114768e-01, 7.30107546e-01, 7.40100324e-01, 7.50093102e-01,\n",
              "        7.60085940e-01, 7.70078719e-01, 7.80071497e-01, 7.90064275e-01,\n",
              "        8.00057054e-01, 8.10049832e-01, 8.20042610e-01, 8.30035388e-01,\n",
              "        8.40028167e-01, 8.50021005e-01, 8.60013783e-01, 8.70006561e-01,\n",
              "        8.79999340e-01, 8.89992118e-01, 8.99984896e-01, 9.09977674e-01,\n",
              "        9.19970453e-01, 9.29963231e-01, 9.39956009e-01, 9.49948788e-01,\n",
              "        9.59941626e-01, 9.69934404e-01, 9.79927182e-01, 9.89919960e-01,\n",
              "        9.99912739e-01], dtype=float32),\n",
              " <a list of 100 Patch objects>)"
            ]
          },
          "metadata": {
            "tags": []
          },
          "execution_count": 17
        },
        {
          "output_type": "display_data",
          "data": {
            "image/png": "[encoded data removed]",
            "text/plain": [
              "<Figure size 864x432 with 2 Axes>"
            ]
          },
          "metadata": {
            "tags": [],
            "needs_background": "light"
          }
        }
      ]
    },
    {
      "cell_type": "code",
      "metadata": {
        "id": "Cu7cB8pGN7L4",
        "colab_type": "code",
        "colab": {
          "base_uri": "https://localhost:8080/",
          "height": 52
        },
        "outputId": "fd576c0e-c6b4-4e46-f832-ef76bb84e4d2"
      },
      "source": [
        "#셔플\n",
        "import numpy as np\n",
        "a = np.arange(10)\n",
        "print(a)\n",
        "tf.random.shuffle(a)"
      ],
      "execution_count": null,
      "outputs": [
        {
          "output_type": "stream",
          "text": [
            "[0 1 2 3 4 5 6 7 8 9]\n"
          ],
          "name": "stdout"
        },
        {
          "output_type": "execute_result",
          "data": {
            "text/plain": [
              "<tf.Tensor: shape=(10,), dtype=int64, numpy=array([5, 2, 8, 4, 3, 9, 7, 1, 0, 6])>"
            ]
          },
          "metadata": {
            "tags": []
          },
          "execution_count": 20
        }
      ]
    },
    {
      "cell_type": "code",
      "metadata": {
        "id": "R23EdWmEOSZb",
        "colab_type": "code",
        "colab": {
          "base_uri": "https://localhost:8080/",
          "height": 87
        },
        "outputId": "e5746a39-2ded-41f5-d6e9-a07a588bcccd"
      },
      "source": [
        "a = np.arange(20).reshape(4, 5)\n",
        "a"
      ],
      "execution_count": null,
      "outputs": [
        {
          "output_type": "execute_result",
          "data": {
            "text/plain": [
              "array([[ 0,  1,  2,  3,  4],\n",
              "       [ 5,  6,  7,  8,  9],\n",
              "       [10, 11, 12, 13, 14],\n",
              "       [15, 16, 17, 18, 19]])"
            ]
          },
          "metadata": {
            "tags": []
          },
          "execution_count": 24
        }
      ]
    }
  ]
}