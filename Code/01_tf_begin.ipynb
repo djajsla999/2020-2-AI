{
  "nbformat": 4,
  "nbformat_minor": 0,
  "metadata": {
    "colab": {
      "name": "01-tf-begin.ipynb",
      "provenance": [],
      "collapsed_sections": [],
      "authorship_tag": "ABX9TyPNsYF9+vW1LcatKAJ/IYH5",
      "include_colab_link": true
    },
    "kernelspec": {
      "name": "python3",
      "display_name": "Python 3"
    }
  },
  "cells": [
    {
      "cell_type": "markdown",
      "metadata": {
        "id": "view-in-github",
        "colab_type": "text"
      },
      "source": [
        "<a href=\"https://colab.research.google.com/github/djajsla999/2020-2-AI/blob/master/Code/01_tf_begin.ipynb\" target=\"_parent\"><img src=\"https://colab.research.google.com/assets/colab-badge.svg\" alt=\"Open In Colab\"/></a>"
      ]
    },
    {
      "cell_type": "markdown",
      "metadata": {
        "id": "LhJzGBsOkekC",
        "colab_type": "text"
      },
      "source": [
        "#코랩 시작"
      ]
    },
    {
      "cell_type": "code",
      "metadata": {
        "id": "CtOQsUl7kNl_",
        "colab_type": "code",
        "colab": {
          "base_uri": "https://localhost:8080/",
          "height": 35
        },
        "outputId": "ce8596ad-32cc-464e-98a0-faaf07664240"
      },
      "source": [
        "import tensorflow as tf\n",
        "tf.__version__"
      ],
      "execution_count": null,
      "outputs": [
        {
          "output_type": "execute_result",
          "data": {
            "application/vnd.google.colaboratory.intrinsic+json": {
              "type": "string"
            },
            "text/plain": [
              "'2.3.0'"
            ]
          },
          "metadata": {
            "tags": []
          },
          "execution_count": 1
        }
      ]
    },
    {
      "cell_type": "code",
      "metadata": {
        "id": "6LB4TxspkdcL",
        "colab_type": "code",
        "colab": {
          "base_uri": "https://localhost:8080/",
          "height": 34
        },
        "outputId": "b13f0963-ae24-48e0-e913-1546a9d5f90d"
      },
      "source": [
        "a = tf.constant(3)\n",
        "a"
      ],
      "execution_count": null,
      "outputs": [
        {
          "output_type": "execute_result",
          "data": {
            "text/plain": [
              "<tf.Tensor: shape=(), dtype=int32, numpy=3>"
            ]
          },
          "metadata": {
            "tags": []
          },
          "execution_count": 2
        }
      ]
    },
    {
      "cell_type": "code",
      "metadata": {
        "id": "eIOFnENsyxUi",
        "colab_type": "code",
        "colab": {
          "base_uri": "https://localhost:8080/",
          "height": 34
        },
        "outputId": "788277ec-b50b-4425-cc4c-a4e14d8ec47d"
      },
      "source": [
        "a=[2,3,4]\n",
        "a"
      ],
      "execution_count": null,
      "outputs": [
        {
          "output_type": "execute_result",
          "data": {
            "text/plain": [
              "[2, 3, 4]"
            ]
          },
          "metadata": {
            "tags": []
          },
          "execution_count": 3
        }
      ]
    },
    {
      "cell_type": "code",
      "metadata": {
        "id": "dtRmbHaYoXAV",
        "colab_type": "code",
        "colab": {
          "base_uri": "https://localhost:8080/",
          "height": 35
        },
        "outputId": "fcaf731f-999d-4074-d5bf-721937810893"
      },
      "source": [
        "s = \"hello, tensorflow\"\n",
        "s"
      ],
      "execution_count": null,
      "outputs": [
        {
          "output_type": "execute_result",
          "data": {
            "application/vnd.google.colaboratory.intrinsic+json": {
              "type": "string"
            },
            "text/plain": [
              "'hello, tensorflow'"
            ]
          },
          "metadata": {
            "tags": []
          },
          "execution_count": 4
        }
      ]
    },
    {
      "cell_type": "code",
      "metadata": {
        "id": "z1CRLhV1Hgi3",
        "colab_type": "code",
        "colab": {
          "base_uri": "https://localhost:8080/",
          "height": 35
        },
        "outputId": "d00f220e-37ac-434a-8e00-d9931e4e5559"
      },
      "source": [
        "s"
      ],
      "execution_count": null,
      "outputs": [
        {
          "output_type": "execute_result",
          "data": {
            "application/vnd.google.colaboratory.intrinsic+json": {
              "type": "string"
            },
            "text/plain": [
              "'hello, tensorflow'"
            ]
          },
          "metadata": {
            "tags": []
          },
          "execution_count": 5
        }
      ]
    },
    {
      "cell_type": "code",
      "metadata": {
        "id": "ctXuJDQVHtIH",
        "colab_type": "code",
        "colab": {
          "base_uri": "https://localhost:8080/",
          "height": 34
        },
        "outputId": "900db820-88ff-431b-af7e-84f4225480a6"
      },
      "source": [
        "import tensorflow as tf\n",
        "tf. __version__\n",
        "\n",
        "a = tf.constant(5)\n",
        "b = tf.constant(3)\n",
        "print(a+b)"
      ],
      "execution_count": null,
      "outputs": [
        {
          "output_type": "stream",
          "text": [
            "tf.Tensor(8, shape=(), dtype=int32)\n"
          ],
          "name": "stdout"
        }
      ]
    },
    {
      "cell_type": "code",
      "metadata": {
        "id": "devGRtxGIJE6",
        "colab_type": "code",
        "colab": {
          "base_uri": "https://localhost:8080/",
          "height": 52
        },
        "outputId": "ec7d9c48-a0b4-4e3f-99f7-3afca646e39a"
      },
      "source": [
        "c = tf.constant(\"Hello, world!\")\n",
        "print(c)\n",
        "print(c.numpy())"
      ],
      "execution_count": null,
      "outputs": [
        {
          "output_type": "stream",
          "text": [
            "tf.Tensor(b'Hello, world!', shape=(), dtype=string)\n",
            "b'Hello, world!'\n"
          ],
          "name": "stdout"
        }
      ]
    },
    {
      "cell_type": "code",
      "metadata": {
        "id": "sZaw7mNsIb_q",
        "colab_type": "code",
        "colab": {
          "base_uri": "https://localhost:8080/",
          "height": 35
        },
        "outputId": "575bb276-683c-4b55-ca03-62d6530ce97b"
      },
      "source": [
        "# 텐서플로 1.0 버전 선택\n",
        "\n",
        "try:\n",
        "  %tensorflow_version 1.x\n",
        "except Exception:\n",
        "  pass\n",
        "\n",
        "import tensorflow as tf\n",
        "tf. __version__"
      ],
      "execution_count": null,
      "outputs": [
        {
          "output_type": "execute_result",
          "data": {
            "application/vnd.google.colaboratory.intrinsic+json": {
              "type": "string"
            },
            "text/plain": [
              "'1.15.2'"
            ]
          },
          "metadata": {
            "tags": []
          },
          "execution_count": 9
        }
      ]
    },
    {
      "cell_type": "code",
      "metadata": {
        "id": "ZOA-T3r1I0lq",
        "colab_type": "code",
        "colab": {
          "base_uri": "https://localhost:8080/",
          "height": 34
        },
        "outputId": "92955d9a-6904-452f-ff27-b29a68a065e5"
      },
      "source": [
        "import tensorflow as tf\n",
        "\n",
        "hello = tf.constant(\"Hello World!\")\n",
        "\n",
        "sess = tf.Session()\n",
        "print(sess.run(hello))\n",
        "sess.close()"
      ],
      "execution_count": null,
      "outputs": [
        {
          "output_type": "stream",
          "text": [
            "b'Hello World!'\n"
          ],
          "name": "stdout"
        }
      ]
    },
    {
      "cell_type": "code",
      "metadata": {
        "id": "pJT_aF1NI_ZA",
        "colab_type": "code",
        "colab": {
          "base_uri": "https://localhost:8080/",
          "height": 52
        },
        "outputId": "86f3a9a8-cdb9-4fe5-a212-238f20bb6c5d"
      },
      "source": [
        "a = 10\n",
        "b = 10\n",
        "print(tf.add(a, b))\n",
        "\n",
        "sess = tf.Session()\n",
        "print(sess.run(hello))\n",
        "sess.close()"
      ],
      "execution_count": null,
      "outputs": [
        {
          "output_type": "stream",
          "text": [
            "Tensor(\"Add_2:0\", shape=(), dtype=int32)\n",
            "b'Hello World!'\n"
          ],
          "name": "stdout"
        }
      ]
    },
    {
      "cell_type": "code",
      "metadata": {
        "id": "mzAG11cJJYOL",
        "colab_type": "code",
        "colab": {
          "base_uri": "https://localhost:8080/",
          "height": 105
        },
        "outputId": "b2f0df53-5555-4c3b-d19e-09e12fbf362f"
      },
      "source": [
        "%tensorflow_version s.x"
      ],
      "execution_count": null,
      "outputs": [
        {
          "output_type": "stream",
          "text": [
            "Unknown TensorFlow version: s.x\n",
            "Currently selected TF version: 2.x\n",
            "Available versions:\n",
            " * 1.x\n",
            " * 2.x\n"
          ],
          "name": "stdout"
        }
      ]
    },
    {
      "cell_type": "code",
      "metadata": {
        "id": "b6oRRG5KKjHD",
        "colab_type": "code",
        "colab": {
          "base_uri": "https://localhost:8080/",
          "height": 34
        },
        "outputId": "01d99a13-10ad-42ce-e1c6-2ff4c4b301d0"
      },
      "source": [
        "import tensorflow as tf\n",
        "tf. __version__\n",
        "\n",
        "a = tf.constant(5)\n",
        "b = tf.constant(3)\n",
        "print(a+b)"
      ],
      "execution_count": null,
      "outputs": [
        {
          "output_type": "stream",
          "text": [
            "tf.Tensor(8, shape=(), dtype=int32)\n"
          ],
          "name": "stdout"
        }
      ]
    },
    {
      "cell_type": "code",
      "metadata": {
        "id": "yXJpd3GpK0hh",
        "colab_type": "code",
        "colab": {
          "base_uri": "https://localhost:8080/",
          "height": 52
        },
        "outputId": "532a77d1-75e4-471f-d458-4fae5c9d8ca6"
      },
      "source": [
        "c = tf.constant('Hello, world!')\n",
        "print(c)\n",
        "print(c.numpy())"
      ],
      "execution_count": null,
      "outputs": [
        {
          "output_type": "stream",
          "text": [
            "tf.Tensor(b'Hello, world!', shape=(), dtype=string)\n",
            "b'Hello, world!'\n"
          ],
          "name": "stdout"
        }
      ]
    },
    {
      "cell_type": "code",
      "metadata": {
        "id": "QdMtTsU-LEFC",
        "colab_type": "code",
        "colab": {
          "base_uri": "https://localhost:8080/",
          "height": 34
        },
        "outputId": "3757f242-0a3e-453c-fdfa-b8a0ee1c772a"
      },
      "source": [
        "a = tf.constant(3)\n",
        "a"
      ],
      "execution_count": null,
      "outputs": [
        {
          "output_type": "execute_result",
          "data": {
            "text/plain": [
              "<tf.Tensor: shape=(), dtype=int32, numpy=3>"
            ]
          },
          "metadata": {
            "tags": []
          },
          "execution_count": 8
        }
      ]
    },
    {
      "cell_type": "code",
      "metadata": {
        "id": "PEx3mio8LIPL",
        "colab_type": "code",
        "colab": {
          "base_uri": "https://localhost:8080/",
          "height": 34
        },
        "outputId": "2d13ddbd-a3c1-4cb9-b66d-911299fda811"
      },
      "source": [
        "a.shape"
      ],
      "execution_count": null,
      "outputs": [
        {
          "output_type": "execute_result",
          "data": {
            "text/plain": [
              "TensorShape([])"
            ]
          },
          "metadata": {
            "tags": []
          },
          "execution_count": 10
        }
      ]
    },
    {
      "cell_type": "code",
      "metadata": {
        "id": "NGKjXxrqLL5R",
        "colab_type": "code",
        "colab": {
          "base_uri": "https://localhost:8080/",
          "height": 34
        },
        "outputId": "ed0fe390-1dad-43c2-af2a-22ca974e82ee"
      },
      "source": [
        "a.numpy()"
      ],
      "execution_count": null,
      "outputs": [
        {
          "output_type": "execute_result",
          "data": {
            "text/plain": [
              "3"
            ]
          },
          "metadata": {
            "tags": []
          },
          "execution_count": 12
        }
      ]
    },
    {
      "cell_type": "code",
      "metadata": {
        "id": "qY0qDFncLN6I",
        "colab_type": "code",
        "colab": {
          "base_uri": "https://localhost:8080/",
          "height": 34
        },
        "outputId": "7292e355-8b57-44ea-8094-14615aaadf59"
      },
      "source": [
        "b = tf.constant(3.)\n",
        "b"
      ],
      "execution_count": null,
      "outputs": [
        {
          "output_type": "execute_result",
          "data": {
            "text/plain": [
              "<tf.Tensor: shape=(), dtype=float32, numpy=3.0>"
            ]
          },
          "metadata": {
            "tags": []
          },
          "execution_count": 15
        }
      ]
    },
    {
      "cell_type": "code",
      "metadata": {
        "id": "vae8v0HnLPrA",
        "colab_type": "code",
        "colab": {
          "base_uri": "https://localhost:8080/",
          "height": 34
        },
        "outputId": "982a0162-0c91-46e2-dda2-e747bb8a3840"
      },
      "source": [
        "a = tf.constant([1, 2, 3])\n",
        "a.shape"
      ],
      "execution_count": null,
      "outputs": [
        {
          "output_type": "execute_result",
          "data": {
            "text/plain": [
              "TensorShape([3])"
            ]
          },
          "metadata": {
            "tags": []
          },
          "execution_count": 20
        }
      ]
    },
    {
      "cell_type": "code",
      "metadata": {
        "id": "9-_rUS9pLfbH",
        "colab_type": "code",
        "colab": {
          "base_uri": "https://localhost:8080/",
          "height": 34
        },
        "outputId": "a4526222-019f-4423-89e8-e4742568e9ee"
      },
      "source": [
        "a = tf.constant([[1, 2, 3], [4, 5, 6]])\n",
        "a.shape"
      ],
      "execution_count": null,
      "outputs": [
        {
          "output_type": "execute_result",
          "data": {
            "text/plain": [
              "TensorShape([2, 3])"
            ]
          },
          "metadata": {
            "tags": []
          },
          "execution_count": 22
        }
      ]
    },
    {
      "cell_type": "code",
      "metadata": {
        "id": "XFkXSTT0Lt85",
        "colab_type": "code",
        "colab": {
          "base_uri": "https://localhost:8080/",
          "height": 34
        },
        "outputId": "df48ad9d-120b-4411-f9dc-3ba32bbeb1af"
      },
      "source": [
        "a = tf.constant([[[1, 2, 3], [4, 5, 6]], [[1, 2, 3], [4, 5, 6]]])\n",
        "a.shape"
      ],
      "execution_count": null,
      "outputs": [
        {
          "output_type": "execute_result",
          "data": {
            "text/plain": [
              "TensorShape([2, 2, 3])"
            ]
          },
          "metadata": {
            "tags": []
          },
          "execution_count": 26
        }
      ]
    },
    {
      "cell_type": "code",
      "metadata": {
        "id": "0acRUThIMDUj",
        "colab_type": "code",
        "colab": {
          "base_uri": "https://localhost:8080/",
          "height": 122
        },
        "outputId": "bcb75500-e24d-447e-a82f-7749d60b74d2"
      },
      "source": [
        "a"
      ],
      "execution_count": null,
      "outputs": [
        {
          "output_type": "execute_result",
          "data": {
            "text/plain": [
              "<tf.Tensor: shape=(2, 2, 3), dtype=int32, numpy=\n",
              "array([[[1, 2, 3],\n",
              "        [4, 5, 6]],\n",
              "\n",
              "       [[1, 2, 3],\n",
              "        [4, 5, 6]]], dtype=int32)>"
            ]
          },
          "metadata": {
            "tags": []
          },
          "execution_count": 29
        }
      ]
    },
    {
      "cell_type": "code",
      "metadata": {
        "id": "zF6pZBq1MPYz",
        "colab_type": "code",
        "colab": {
          "base_uri": "https://localhost:8080/",
          "height": 52
        },
        "outputId": "c0dfc855-5802-4f59-b8d6-831aee1b086e"
      },
      "source": [
        "x = tf.constant(1.)\n",
        "bool = tf.constant(True)\n",
        "res = tf.cond(bool, lambda: tf.add(x, 1.), lambda: tf.add(x, 10.))\n",
        "\n",
        "print(res)\n",
        "print(res.numpy())"
      ],
      "execution_count": null,
      "outputs": [
        {
          "output_type": "stream",
          "text": [
            "tf.Tensor(2.0, shape=(), dtype=float32)\n",
            "2.0\n"
          ],
          "name": "stdout"
        }
      ]
    },
    {
      "cell_type": "code",
      "metadata": {
        "id": "x4ASXIZ9MgRM",
        "colab_type": "code",
        "colab": {
          "base_uri": "https://localhost:8080/",
          "height": 34
        },
        "outputId": "52b83915-749c-4fdf-d2d9-3a2179f2db47"
      },
      "source": [
        "x = tf.constant(2)\n",
        "y = tf.constant(5)\n",
        "def f1(): return tf.multiply(x, 17)\n",
        "def f2(): return tf.add(y, 23)\n",
        "r = tf.cond(tf.less(x, y), f1, f2)\n",
        "\n",
        "#less    x<y\n",
        "#2*17 = 34\n",
        "r.numpy()\n"
      ],
      "execution_count": null,
      "outputs": [
        {
          "output_type": "execute_result",
          "data": {
            "text/plain": [
              "34"
            ]
          },
          "metadata": {
            "tags": []
          },
          "execution_count": 33
        }
      ]
    },
    {
      "cell_type": "code",
      "metadata": {
        "id": "HWDZsQfdN0K2",
        "colab_type": "code",
        "colab": {
          "base_uri": "https://localhost:8080/",
          "height": 34
        },
        "outputId": "c98500a5-c811-443b-c6e7-72086d14c288"
      },
      "source": [
        "t = tf.constant([1, 2, 3])\n",
        "t"
      ],
      "execution_count": null,
      "outputs": [
        {
          "output_type": "execute_result",
          "data": {
            "text/plain": [
              "<tf.Tensor: shape=(3,), dtype=int32, numpy=array([1, 2, 3], dtype=int32)>"
            ]
          },
          "metadata": {
            "tags": []
          },
          "execution_count": 35
        }
      ]
    },
    {
      "cell_type": "code",
      "metadata": {
        "id": "fqh1u7IPN6EF",
        "colab_type": "code",
        "colab": {
          "base_uri": "https://localhost:8080/",
          "height": 34
        },
        "outputId": "c94b4fd0-3cfe-423d-eda7-12431050e259"
      },
      "source": [
        "x = tf.constant([1, 2, 3])\n",
        "y = tf.constant([5, 6, 7])\n",
        "\n",
        "print((x+y).numpy())"
      ],
      "execution_count": null,
      "outputs": [
        {
          "output_type": "stream",
          "text": [
            "[ 6  8 10]\n"
          ],
          "name": "stdout"
        }
      ]
    },
    {
      "cell_type": "code",
      "metadata": {
        "id": "4uY9T8CeOC4T",
        "colab_type": "code",
        "colab": {
          "base_uri": "https://localhost:8080/",
          "height": 70
        },
        "outputId": "f81bb34a-c858-4392-d529-681da5a4917d"
      },
      "source": [
        "a = tf.constant([5], dtype=tf.float32)\n",
        "b = tf.constant([10], dtype=tf.float32)\n",
        "c = tf.constant([2], dtype=tf.float32)\n",
        "print(a.numpy())\n",
        "\n",
        "d = a * b + c\n",
        "\n",
        "print(d)\n",
        "# 값만 출력\n",
        "print(d.numpy())"
      ],
      "execution_count": null,
      "outputs": [
        {
          "output_type": "stream",
          "text": [
            "[5.]\n",
            "tf.Tensor([52.], shape=(1,), dtype=float32)\n",
            "[52.]\n"
          ],
          "name": "stdout"
        }
      ]
    },
    {
      "cell_type": "code",
      "metadata": {
        "id": "Vx9PM07YOfca",
        "colab_type": "code",
        "colab": {
          "base_uri": "https://localhost:8080/",
          "height": 87
        },
        "outputId": "f17fe04b-439e-4357-844f-6d4917974f29"
      },
      "source": [
        "x = tf.constant(([0], [10], [20], [30]))\n",
        "y = tf.constant([0, 1, 2])\n",
        "\n",
        "print((x+y).numpy())"
      ],
      "execution_count": null,
      "outputs": [
        {
          "output_type": "stream",
          "text": [
            "[[ 0  1  2]\n",
            " [10 11 12]\n",
            " [20 21 22]\n",
            " [30 31 32]]\n"
          ],
          "name": "stdout"
        }
      ]
    },
    {
      "cell_type": "code",
      "metadata": {
        "id": "5Soxn5jkOwMj",
        "colab_type": "code",
        "colab": {
          "base_uri": "https://localhost:8080/",
          "height": 158
        },
        "outputId": "e027e792-373f-47b9-ee81-bab7223822ad"
      },
      "source": [
        "import numpy as np\n",
        "\n",
        "#[012]\n",
        "print(np.arange(3))\n",
        "#3*3행렬에 모두 1.0을 집어넣는다.\n",
        "print(np.ones((3, 3)))\n",
        "print()\n",
        "\n",
        "x = tf.constant((np.arange(3)))\n",
        "y = tf.constant([5], dtype=tf.int64)\n",
        "print(x)\n",
        "print(y)\n",
        "print(x+y)"
      ],
      "execution_count": null,
      "outputs": [
        {
          "output_type": "stream",
          "text": [
            "[0 1 2]\n",
            "[[1. 1. 1.]\n",
            " [1. 1. 1.]\n",
            " [1. 1. 1.]]\n",
            "\n",
            "tf.Tensor([0 1 2], shape=(3,), dtype=int64)\n",
            "tf.Tensor([5], shape=(1,), dtype=int64)\n",
            "tf.Tensor([5 6 7], shape=(3,), dtype=int64)\n"
          ],
          "name": "stdout"
        }
      ]
    },
    {
      "cell_type": "code",
      "metadata": {
        "id": "s5uBmkOhP_iU",
        "colab_type": "code",
        "colab": {
          "base_uri": "https://localhost:8080/",
          "height": 140
        },
        "outputId": "23ee7477-2454-4eed-9bff-0c6ea9431a1b"
      },
      "source": [
        "#중간고사나옴\n",
        "#[123]\n",
        "x = tf.constant((np.arange(3)))\n",
        "#[5]\n",
        "y = tf.constant([5], dtype=tf.int64)\n",
        "print((x+y).numpy())\n",
        "#[567]\n",
        "\n",
        "x = tf.constant((np.ones((3, 3))))\n",
        "y = tf.constant(np.arange(3), dtype=tf.double)\n",
        "print((x+y).numpy())\n",
        "\n",
        "#reshpe 3*1로 모양 바꾸기\n",
        "x = tf.constant(np.arange(3).reshape(3, 1))\n",
        "y = tf.constant(np.arange(3))\n",
        "print((x+y).numpy())"
      ],
      "execution_count": null,
      "outputs": [
        {
          "output_type": "stream",
          "text": [
            "[5 6 7]\n",
            "[[1. 2. 3.]\n",
            " [1. 2. 3.]\n",
            " [1. 2. 3.]]\n",
            "[[0 1 2]\n",
            " [1 2 3]\n",
            " [2 3 4]]\n"
          ],
          "name": "stdout"
        }
      ]
    }
  ]
}